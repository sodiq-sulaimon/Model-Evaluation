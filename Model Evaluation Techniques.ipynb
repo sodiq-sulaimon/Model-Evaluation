{
 "cells": [
  {
   "cell_type": "code",
   "execution_count": 1,
   "id": "f9d7f709",
   "metadata": {},
   "outputs": [],
   "source": [
    "import numpy as np"
   ]
  },
  {
   "cell_type": "markdown",
   "id": "e7fcd2fc",
   "metadata": {},
   "source": [
    "#### Function to evaluate error in a linear regression model"
   ]
  },
  {
   "cell_type": "code",
   "execution_count": 10,
   "id": "e908392e",
   "metadata": {},
   "outputs": [],
   "source": [
    "def eval_mse(y, yhat):\n",
    "    m = len(y)\n",
    "    err = 0.0\n",
    "    for i in range(m):\n",
    "        err += (yhat[i] - y[i]) ** 2\n",
    "    err = err / (2 * m)\n",
    "      \n",
    "    return(err)"
   ]
  },
  {
   "cell_type": "code",
   "execution_count": 11,
   "id": "65689ae6",
   "metadata": {},
   "outputs": [
    {
     "name": "stdout",
     "output_type": "stream",
     "text": [
      "0.0050000000000000305\n"
     ]
    }
   ],
   "source": [
    "y_hat = np.array([2.4, 4.2])\n",
    "y_tmp = np.array([2.3, 4.1])\n",
    "error = eval_mse(y_hat, y_tmp)\n",
    "\n",
    "print (error)\n"
   ]
  },
  {
   "cell_type": "markdown",
   "id": "1b2ec06f",
   "metadata": {},
   "source": [
    "#### Function to calculate classification error"
   ]
  },
  {
   "cell_type": "code",
   "execution_count": 12,
   "id": "928f9887",
   "metadata": {},
   "outputs": [],
   "source": [
    "def eval_cat_err(y, yhat):\n",
    "    m = len(y)\n",
    "    incorrect = 0\n",
    "    for i in range(m):\n",
    "        if yhat[i] != y[i]:\n",
    "            incorrect += 1\n",
    "        else:\n",
    "            incorrect += 0\n",
    "    cerr =  incorrect / m       \n",
    "    return(cerr)"
   ]
  },
  {
   "cell_type": "code",
   "execution_count": 13,
   "id": "7fb82064",
   "metadata": {},
   "outputs": [
    {
     "name": "stdout",
     "output_type": "stream",
     "text": [
      "categorization error 0.333, expected:0.333\n",
      "categorization error 0.250, expected:0.250\n"
     ]
    }
   ],
   "source": [
    "y_hat = np.array([1, 2, 0])\n",
    "y_tmp = np.array([1, 2, 3])\n",
    "print(f\"categorization error {np.squeeze(eval_cat_err(y_hat, y_tmp)):0.3f}, expected:0.333\" )\n",
    "y_hat = np.array([[1], [2], [0], [3]])\n",
    "y_tmp = np.array([[1], [2], [1], [3]])\n",
    "print(f\"categorization error {np.squeeze(eval_cat_err(y_hat, y_tmp)):0.3f}, expected:0.250\" )"
   ]
  },
  {
   "cell_type": "code",
   "execution_count": null,
   "id": "55432c1d",
   "metadata": {},
   "outputs": [],
   "source": []
  }
 ],
 "metadata": {
  "kernelspec": {
   "display_name": "Python 3 (ipykernel)",
   "language": "python",
   "name": "python3"
  },
  "language_info": {
   "codemirror_mode": {
    "name": "ipython",
    "version": 3
   },
   "file_extension": ".py",
   "mimetype": "text/x-python",
   "name": "python",
   "nbconvert_exporter": "python",
   "pygments_lexer": "ipython3",
   "version": "3.9.12"
  }
 },
 "nbformat": 4,
 "nbformat_minor": 5
}
